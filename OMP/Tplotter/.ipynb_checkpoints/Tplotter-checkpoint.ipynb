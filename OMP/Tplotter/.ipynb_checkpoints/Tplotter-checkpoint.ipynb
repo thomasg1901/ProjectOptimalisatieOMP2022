{
 "cells": [
  {
   "cell_type": "code",
   "execution_count": 2,
   "id": "9b87f983",
   "metadata": {},
   "outputs": [
    {
     "name": "stdout",
     "output_type": "stream",
     "text": [
      "['14', '14', '20', '21', '23', '30', '33', '34', '35', '35', '35', '38', '38', '41', '43', '43', '45', '45', '46', '49', '57', '58', '58', '66', '66', '69', '70', '71', '73', '76', '86', '89', '93', '98', '100', '111', '116', '117', '123', '129', '130', '134', '137', '137', '138', '138', '138', '157', '159', '173', '202', '224', '251', '394']\n"
     ]
    }
   ],
   "source": [
    "\n",
    "f = open(\"../../A-100-30_times.txt\", \"r\")\n",
    "ab = f.read().split(\";\")\n",
    "ab = ab[:-1]"
   ]
  },
  {
   "cell_type": "code",
   "execution_count": 5,
   "id": "d7e755e1",
   "metadata": {},
   "outputs": [],
   "source": [
    "import matplotlib.pyplot as plt\n",
    "import numpy as np\n",
    "def plotter(time,cost):\n",
    "    datapoints= np.array(cost,dtype=float)\n",
    "    xpoints = np.array(time,dtype=float)\n",
    "\n",
    "    plt.plot(xpoints, datapoints)\n",
    "    plt.show()"
   ]
  },
  {
   "cell_type": "code",
   "execution_count": 10,
   "id": "7ca58f6e",
   "metadata": {},
   "outputs": [
    {
     "data": {
      "image/png": "[encoded data removed]",
      "text/plain": [
       "<Figure size 432x288 with 1 Axes>"
      ]
     },
     "metadata": {
      "needs_background": "light"
     },
     "output_type": "display_data"
    }
   ],
   "source": [
    "file = \"../../A-100-30\"\n",
    "\n",
    "f = open(file+\".txt\", \"r\")\n",
    "data = f.read().split(\";\")\n",
    "data = data[:-1]\n",
    "\n",
    "f = open(file+\"_times.txt\", \"r\")\n",
    "x = f.read().split(\";\")\n",
    "x = x[:-1]\n",
    "\n",
    "plotter(x,data)"
   ]
  },
  {
   "cell_type": "code",
   "execution_count": 11,
   "id": "f72bfa6c",
   "metadata": {},
   "outputs": [
    {
     "data": {
      "image/png": "[encoded data removed]",
      "text/plain": [
       "<Figure size 432x288 with 1 Axes>"
      ]
     },
     "metadata": {
      "needs_background": "light"
     },
     "output_type": "display_data"
    }
   ],
   "source": [
    "file = \"../../A-200-30\"\n",
    "\n",
    "f = open(file+\".txt\", \"r\")\n",
    "data = f.read().split(\";\")\n",
    "data = data[:-1]\n",
    "\n",
    "f = open(file+\"_times.txt\", \"r\")\n",
    "x = f.read().split(\";\")\n",
    "x = x[:-1]\n",
    "\n",
    "plotter(x,data)"
   ]
  },
  {
   "cell_type": "code",
   "execution_count": 12,
   "id": "6550c8fd",
   "metadata": {},
   "outputs": [
    {
     "ename": "TypeError",
     "evalue": "plotter() missing 1 required positional argument: 'cost'",
     "output_type": "error",
     "traceback": [
      "\u001b[1;31m---------------------------------------------------------------------------\u001b[0m",
      "\u001b[1;31mTypeError\u001b[0m                                 Traceback (most recent call last)",
      "Input \u001b[1;32mIn [12]\u001b[0m, in \u001b[0;36m<cell line: 2>\u001b[1;34m()\u001b[0m\n\u001b[0;32m      1\u001b[0m f \u001b[38;5;241m=\u001b[39m \u001b[38;5;28mopen\u001b[39m(\u001b[38;5;124m\"\u001b[39m\u001b[38;5;124m../../A-400-90.txt\u001b[39m\u001b[38;5;124m\"\u001b[39m, \u001b[38;5;124m\"\u001b[39m\u001b[38;5;124mr\u001b[39m\u001b[38;5;124m\"\u001b[39m)\n\u001b[1;32m----> 2\u001b[0m \u001b[43mplotter\u001b[49m\u001b[43m(\u001b[49m\u001b[43mf\u001b[49m\u001b[43m)\u001b[49m\n",
      "\u001b[1;31mTypeError\u001b[0m: plotter() missing 1 required positional argument: 'cost'"
     ]
    }
   ],
   "source": [
    "file = \"../../A-400-90\"\n",
    "\n",
    "\n",
    "f = open(file+\".txt\", \"r\")\n",
    "data = f.read().split(\";\")\n",
    "data = data[:-1]\n",
    "\n",
    "f = open(file+\"_times.txt\", \"r\")\n",
    "x = f.read().split(\";\")\n",
    "x = x[:-1]\n",
    "\n",
    "plotter(x,data)"
   ]
  },
  {
   "cell_type": "code",
   "execution_count": 144,
   "id": "282b734c",
   "metadata": {},
   "outputs": [
    {
     "name": "stdout",
     "output_type": "stream",
     "text": [
      "['23536.56', '23533.39', '23531.5', '23530.44', '23526.82', '23523.85', '23496.39', '23495.54', '23492.12', '23476.97', '23472.83', '23464.21', '23454.97', '23452.32', '23451.21', '23450.58', '23443.87', '23441.63', '23435.53', '23432.55', '23430.83', '23426.55', '23383.51', '23380.3', '23376.41', '23374.81', '23368.74', '23360.92', '23353.86', '23353.66', '23353.46', '23319.9', '23317.67', '23311.97', '23310.65', '23308.65', '23303.63', '23296.25', '23292.18', '23288.66', '23286.8', '23283.46', '23279.73', '23279.0', '23270.76', '23267.34', '23260.11', '23253.12', '23252.15', '23240.76', '23240.22', '23239.86', '23236.06']\n"
     ]
    }
   ],
   "source": [
    "f = open(\"../../A-100-30_times.txt\", \"r\")\n",
    "ab = f.read().split(\";\")\n",
    "ab = arr[:-1]\n",
    "print(ab)  "
   ]
  },
  {
   "cell_type": "code",
   "execution_count": null,
   "id": "646b429e",
   "metadata": {},
   "outputs": [],
   "source": []
  }
 ],
 "metadata": {
  "kernelspec": {
   "display_name": "Python 3 (ipykernel)",
   "language": "python",
   "name": "python3"
  },
  "language_info": {
   "codemirror_mode": {
    "name": "ipython",
    "version": 3
   },
   "file_extension": ".py",
   "mimetype": "text/x-python",
   "name": "python",
   "nbconvert_exporter": "python",
   "pygments_lexer": "ipython3",
   "version": "3.9.12"
  }
 },
 "nbformat": 4,
 "nbformat_minor": 5
}
